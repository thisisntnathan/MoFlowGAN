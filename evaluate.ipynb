{
 "cells": [
  {
   "attachments": {},
   "cell_type": "markdown",
   "metadata": {},
   "source": [
    "# Model Evaluation\n",
    "\n",
    "Use this python notebook to evaluate your model's performance"
   ]
  },
  {
   "cell_type": "code",
   "execution_count": null,
   "metadata": {},
   "outputs": [],
   "source": [
    "from google.colab import drive\n",
    "drive.mount('/gdrive')\n",
    "%cd /gdrive\n",
    "\n",
    "!git clone https://github.com/thisisntnathan/MoFlowGAN.git MoFlowGAN\n",
    "\n",
    "%cd /MoFlowGAN"
   ]
  },
  {
   "cell_type": "code",
   "execution_count": null,
   "metadata": {},
   "outputs": [],
   "source": [
    "import time\n",
    "from draw_molecules import show_and_tell\n",
    "from model_eval import score_model, score_reconstruction"
   ]
  },
  {
   "attachments": {},
   "cell_type": "markdown",
   "metadata": {},
   "source": [
    "## Evaluate distribution and chemical property scores"
   ]
  },
  {
   "cell_type": "code",
   "execution_count": null,
   "metadata": {},
   "outputs": [],
   "source": [
    "def summarize(nuvd, avg_scores):\n",
    "    '''\n",
    "    Collates models scores and returns string and csv reps\n",
    "    \n",
    "    In:\n",
    "    nuvd: [novelty, uniqueness, validity, diversity]\n",
    "    avg_scores: avg[np likeness, logP, SA, QED, drug candidacy]\n",
    "    \n",
    "    Out:\n",
    "    results: annotated string representation\n",
    "    csv: list of comma separated values (useful for making ternary plots)\n",
    "    '''\n",
    "    n, u, v, d = nuvd\n",
    "    np, logP, SA, QED, dc = avg_scores\n",
    "    results = 'Novelty: {:.3f}%, Uniqueness : {:.3f}%, Validity {:.3f}%, Diversity: {:.3f}% \\n'\\\n",
    "    'NP score: {:.3f}, logP: {:.3f}, SA: {:.3f}, QED: {:.3f}, dc: {:.3f}'\\\n",
    "    .format(n*100,u*100,v*100,d*100,np,logP,SA,QED,dc)\n",
    "    csv = '{:.5f},{:.5f},{:.5f},{:.5f},{:.5f},{:.5f},{:.5f},{:.5f},{:.5f}'\\\n",
    "    .format(n*100,u*100,v*100,d*100,np,logP,SA,QED,dc)\n",
    "    return results, csv\n"
   ]
  },
  {
   "cell_type": "code",
   "execution_count": null,
   "metadata": {},
   "outputs": [],
   "source": [
    "path = './results/fullTrain/6_2/model_snapshot_epoch_50.tar'   # path/to/model/checkpoint\n",
    "print('Scoring model: {:s}'.format(path))\n",
    "num_expt = 5    # each experiment is 1000 molecules\n",
    "start = time.perf_counter()\n",
    "nuvd, avg_scores = score_model(path, num_expt, return_properties=False)\n",
    "end = time.perf_counter()\n",
    "res, csv = summarize(nuvd, avg_scores)\n",
    "print(res)\n",
    "print('{:n} x 1000 molecule performance evaluations done in {:.1f} sec'.format(num_expt, end-start))\n"
   ]
  },
  {
   "attachments": {},
   "cell_type": "markdown",
   "metadata": {},
   "source": [
    "## Evaluate Model Reconstruction"
   ]
  },
  {
   "cell_type": "code",
   "execution_count": null,
   "metadata": {},
   "outputs": [],
   "source": [
    "path = './results/fullTrain/6_2/model_snapshot_epoch_50.tar'   # path/to/model/checkpoint\n",
    "print('Scoring reconstruction: {:s}'.format(path))\n",
    "score_reconstruction(path, 0)"
   ]
  },
  {
   "attachments": {},
   "cell_type": "markdown",
   "metadata": {},
   "source": [
    "## Generate some molecules"
   ]
  },
  {
   "cell_type": "code",
   "execution_count": null,
   "metadata": {},
   "outputs": [],
   "source": [
    "path = './results/fullTrain/6_2/model_snapshot_epoch_50.tar'   # path/to/model/checkpoint\n",
    "show_and_tell(path)"
   ]
  },
  {
   "cell_type": "markdown",
   "metadata": {},
   "source": []
  }
 ],
 "metadata": {
  "kernelspec": {
   "display_name": "moflow",
   "language": "python",
   "name": "python3"
  },
  "language_info": {
   "name": "python",
   "version": "3.10.6 (main, Oct  7 2022, 15:17:23) [Clang 12.0.0 ]"
  },
  "orig_nbformat": 4,
  "vscode": {
   "interpreter": {
    "hash": "01eecd60100d885f7adf04a6f7415a5bc5e35d7702f1379eee0ee493a5d2d103"
   }
  }
 },
 "nbformat": 4,
 "nbformat_minor": 2
}
